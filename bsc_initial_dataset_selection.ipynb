{
  "nbformat": 4,
  "nbformat_minor": 0,
  "metadata": {
    "colab": {
      "provenance": [],
      "authorship_tag": "ABX9TyOq1HE8tDLKPVfLZmqFZQKN",
      "include_colab_link": true
    },
    "kernelspec": {
      "name": "python3",
      "display_name": "Python 3"
    },
    "language_info": {
      "name": "python"
    },
    "widgets": {
      "application/vnd.jupyter.widget-state+json": {
        "f29d7299f8ab46f4a09adce08581b398": {
          "model_module": "@jupyter-widgets/controls",
          "model_name": "HBoxModel",
          "model_module_version": "1.5.0",
          "state": {
            "_dom_classes": [],
            "_model_module": "@jupyter-widgets/controls",
            "_model_module_version": "1.5.0",
            "_model_name": "HBoxModel",
            "_view_count": null,
            "_view_module": "@jupyter-widgets/controls",
            "_view_module_version": "1.5.0",
            "_view_name": "HBoxView",
            "box_style": "",
            "children": [
              "IPY_MODEL_4a4a274cea0c451794f57a5cf179cd79",
              "IPY_MODEL_e548d32f62c44b0381109d7634d879fc",
              "IPY_MODEL_1d1e90975414494382dc2192a73a8ca9"
            ],
            "layout": "IPY_MODEL_bd1418d947774703ad452529aa6c6185"
          }
        },
        "4a4a274cea0c451794f57a5cf179cd79": {
          "model_module": "@jupyter-widgets/controls",
          "model_name": "HTMLModel",
          "model_module_version": "1.5.0",
          "state": {
            "_dom_classes": [],
            "_model_module": "@jupyter-widgets/controls",
            "_model_module_version": "1.5.0",
            "_model_name": "HTMLModel",
            "_view_count": null,
            "_view_module": "@jupyter-widgets/controls",
            "_view_module_version": "1.5.0",
            "_view_name": "HTMLView",
            "description": "",
            "description_tooltip": null,
            "layout": "IPY_MODEL_e403b5b4c3b94b4f9193b2fba7cdc78e",
            "placeholder": "​",
            "style": "IPY_MODEL_ad581901bdb043a19ee2ffca7539a8c9",
            "value": "100%"
          }
        },
        "e548d32f62c44b0381109d7634d879fc": {
          "model_module": "@jupyter-widgets/controls",
          "model_name": "FloatProgressModel",
          "model_module_version": "1.5.0",
          "state": {
            "_dom_classes": [],
            "_model_module": "@jupyter-widgets/controls",
            "_model_module_version": "1.5.0",
            "_model_name": "FloatProgressModel",
            "_view_count": null,
            "_view_module": "@jupyter-widgets/controls",
            "_view_module_version": "1.5.0",
            "_view_name": "ProgressView",
            "bar_style": "success",
            "description": "",
            "description_tooltip": null,
            "layout": "IPY_MODEL_e49cacb9842048129f72f93b541b3732",
            "max": 85975,
            "min": 0,
            "orientation": "horizontal",
            "style": "IPY_MODEL_143e158d090a4aa29f78d0135f0873f1",
            "value": 85975
          }
        },
        "1d1e90975414494382dc2192a73a8ca9": {
          "model_module": "@jupyter-widgets/controls",
          "model_name": "HTMLModel",
          "model_module_version": "1.5.0",
          "state": {
            "_dom_classes": [],
            "_model_module": "@jupyter-widgets/controls",
            "_model_module_version": "1.5.0",
            "_model_name": "HTMLModel",
            "_view_count": null,
            "_view_module": "@jupyter-widgets/controls",
            "_view_module_version": "1.5.0",
            "_view_name": "HTMLView",
            "description": "",
            "description_tooltip": null,
            "layout": "IPY_MODEL_6491bd72f74d4343baf69cdda80ea9d5",
            "placeholder": "​",
            "style": "IPY_MODEL_7ff1a1b81a75467db3ef71d4f6984e57",
            "value": " 85975/85975 [00:00&lt;00:00, 251850.37it/s]"
          }
        },
        "bd1418d947774703ad452529aa6c6185": {
          "model_module": "@jupyter-widgets/base",
          "model_name": "LayoutModel",
          "model_module_version": "1.2.0",
          "state": {
            "_model_module": "@jupyter-widgets/base",
            "_model_module_version": "1.2.0",
            "_model_name": "LayoutModel",
            "_view_count": null,
            "_view_module": "@jupyter-widgets/base",
            "_view_module_version": "1.2.0",
            "_view_name": "LayoutView",
            "align_content": null,
            "align_items": null,
            "align_self": null,
            "border": null,
            "bottom": null,
            "display": null,
            "flex": null,
            "flex_flow": null,
            "grid_area": null,
            "grid_auto_columns": null,
            "grid_auto_flow": null,
            "grid_auto_rows": null,
            "grid_column": null,
            "grid_gap": null,
            "grid_row": null,
            "grid_template_areas": null,
            "grid_template_columns": null,
            "grid_template_rows": null,
            "height": null,
            "justify_content": null,
            "justify_items": null,
            "left": null,
            "margin": null,
            "max_height": null,
            "max_width": null,
            "min_height": null,
            "min_width": null,
            "object_fit": null,
            "object_position": null,
            "order": null,
            "overflow": null,
            "overflow_x": null,
            "overflow_y": null,
            "padding": null,
            "right": null,
            "top": null,
            "visibility": null,
            "width": null
          }
        },
        "e403b5b4c3b94b4f9193b2fba7cdc78e": {
          "model_module": "@jupyter-widgets/base",
          "model_name": "LayoutModel",
          "model_module_version": "1.2.0",
          "state": {
            "_model_module": "@jupyter-widgets/base",
            "_model_module_version": "1.2.0",
            "_model_name": "LayoutModel",
            "_view_count": null,
            "_view_module": "@jupyter-widgets/base",
            "_view_module_version": "1.2.0",
            "_view_name": "LayoutView",
            "align_content": null,
            "align_items": null,
            "align_self": null,
            "border": null,
            "bottom": null,
            "display": null,
            "flex": null,
            "flex_flow": null,
            "grid_area": null,
            "grid_auto_columns": null,
            "grid_auto_flow": null,
            "grid_auto_rows": null,
            "grid_column": null,
            "grid_gap": null,
            "grid_row": null,
            "grid_template_areas": null,
            "grid_template_columns": null,
            "grid_template_rows": null,
            "height": null,
            "justify_content": null,
            "justify_items": null,
            "left": null,
            "margin": null,
            "max_height": null,
            "max_width": null,
            "min_height": null,
            "min_width": null,
            "object_fit": null,
            "object_position": null,
            "order": null,
            "overflow": null,
            "overflow_x": null,
            "overflow_y": null,
            "padding": null,
            "right": null,
            "top": null,
            "visibility": null,
            "width": null
          }
        },
        "ad581901bdb043a19ee2ffca7539a8c9": {
          "model_module": "@jupyter-widgets/controls",
          "model_name": "DescriptionStyleModel",
          "model_module_version": "1.5.0",
          "state": {
            "_model_module": "@jupyter-widgets/controls",
            "_model_module_version": "1.5.0",
            "_model_name": "DescriptionStyleModel",
            "_view_count": null,
            "_view_module": "@jupyter-widgets/base",
            "_view_module_version": "1.2.0",
            "_view_name": "StyleView",
            "description_width": ""
          }
        },
        "e49cacb9842048129f72f93b541b3732": {
          "model_module": "@jupyter-widgets/base",
          "model_name": "LayoutModel",
          "model_module_version": "1.2.0",
          "state": {
            "_model_module": "@jupyter-widgets/base",
            "_model_module_version": "1.2.0",
            "_model_name": "LayoutModel",
            "_view_count": null,
            "_view_module": "@jupyter-widgets/base",
            "_view_module_version": "1.2.0",
            "_view_name": "LayoutView",
            "align_content": null,
            "align_items": null,
            "align_self": null,
            "border": null,
            "bottom": null,
            "display": null,
            "flex": null,
            "flex_flow": null,
            "grid_area": null,
            "grid_auto_columns": null,
            "grid_auto_flow": null,
            "grid_auto_rows": null,
            "grid_column": null,
            "grid_gap": null,
            "grid_row": null,
            "grid_template_areas": null,
            "grid_template_columns": null,
            "grid_template_rows": null,
            "height": null,
            "justify_content": null,
            "justify_items": null,
            "left": null,
            "margin": null,
            "max_height": null,
            "max_width": null,
            "min_height": null,
            "min_width": null,
            "object_fit": null,
            "object_position": null,
            "order": null,
            "overflow": null,
            "overflow_x": null,
            "overflow_y": null,
            "padding": null,
            "right": null,
            "top": null,
            "visibility": null,
            "width": null
          }
        },
        "143e158d090a4aa29f78d0135f0873f1": {
          "model_module": "@jupyter-widgets/controls",
          "model_name": "ProgressStyleModel",
          "model_module_version": "1.5.0",
          "state": {
            "_model_module": "@jupyter-widgets/controls",
            "_model_module_version": "1.5.0",
            "_model_name": "ProgressStyleModel",
            "_view_count": null,
            "_view_module": "@jupyter-widgets/base",
            "_view_module_version": "1.2.0",
            "_view_name": "StyleView",
            "bar_color": null,
            "description_width": ""
          }
        },
        "6491bd72f74d4343baf69cdda80ea9d5": {
          "model_module": "@jupyter-widgets/base",
          "model_name": "LayoutModel",
          "model_module_version": "1.2.0",
          "state": {
            "_model_module": "@jupyter-widgets/base",
            "_model_module_version": "1.2.0",
            "_model_name": "LayoutModel",
            "_view_count": null,
            "_view_module": "@jupyter-widgets/base",
            "_view_module_version": "1.2.0",
            "_view_name": "LayoutView",
            "align_content": null,
            "align_items": null,
            "align_self": null,
            "border": null,
            "bottom": null,
            "display": null,
            "flex": null,
            "flex_flow": null,
            "grid_area": null,
            "grid_auto_columns": null,
            "grid_auto_flow": null,
            "grid_auto_rows": null,
            "grid_column": null,
            "grid_gap": null,
            "grid_row": null,
            "grid_template_areas": null,
            "grid_template_columns": null,
            "grid_template_rows": null,
            "height": null,
            "justify_content": null,
            "justify_items": null,
            "left": null,
            "margin": null,
            "max_height": null,
            "max_width": null,
            "min_height": null,
            "min_width": null,
            "object_fit": null,
            "object_position": null,
            "order": null,
            "overflow": null,
            "overflow_x": null,
            "overflow_y": null,
            "padding": null,
            "right": null,
            "top": null,
            "visibility": null,
            "width": null
          }
        },
        "7ff1a1b81a75467db3ef71d4f6984e57": {
          "model_module": "@jupyter-widgets/controls",
          "model_name": "DescriptionStyleModel",
          "model_module_version": "1.5.0",
          "state": {
            "_model_module": "@jupyter-widgets/controls",
            "_model_module_version": "1.5.0",
            "_model_name": "DescriptionStyleModel",
            "_view_count": null,
            "_view_module": "@jupyter-widgets/base",
            "_view_module_version": "1.2.0",
            "_view_name": "StyleView",
            "description_width": ""
          }
        },
        "c2d0ce2b503748afacea5798b8aa0206": {
          "model_module": "@jupyter-widgets/controls",
          "model_name": "HBoxModel",
          "model_module_version": "1.5.0",
          "state": {
            "_dom_classes": [],
            "_model_module": "@jupyter-widgets/controls",
            "_model_module_version": "1.5.0",
            "_model_name": "HBoxModel",
            "_view_count": null,
            "_view_module": "@jupyter-widgets/controls",
            "_view_module_version": "1.5.0",
            "_view_name": "HBoxView",
            "box_style": "",
            "children": [
              "IPY_MODEL_41e6729bed6d4fc3bac1244938bc0bf8",
              "IPY_MODEL_cef4f16044084026890b60ae588ac8e1",
              "IPY_MODEL_5ddc4352cd5e46df96fa8bb19ed04628"
            ],
            "layout": "IPY_MODEL_d524abf5f9ba4930ade1d8f50dc423ed"
          }
        },
        "41e6729bed6d4fc3bac1244938bc0bf8": {
          "model_module": "@jupyter-widgets/controls",
          "model_name": "HTMLModel",
          "model_module_version": "1.5.0",
          "state": {
            "_dom_classes": [],
            "_model_module": "@jupyter-widgets/controls",
            "_model_module_version": "1.5.0",
            "_model_name": "HTMLModel",
            "_view_count": null,
            "_view_module": "@jupyter-widgets/controls",
            "_view_module_version": "1.5.0",
            "_view_name": "HTMLView",
            "description": "",
            "description_tooltip": null,
            "layout": "IPY_MODEL_2c84919877d243ea8ee2a3a44f7728d5",
            "placeholder": "​",
            "style": "IPY_MODEL_4ca7028b20794763aa195b461fe2dcc5",
            "value": "100%"
          }
        },
        "cef4f16044084026890b60ae588ac8e1": {
          "model_module": "@jupyter-widgets/controls",
          "model_name": "FloatProgressModel",
          "model_module_version": "1.5.0",
          "state": {
            "_dom_classes": [],
            "_model_module": "@jupyter-widgets/controls",
            "_model_module_version": "1.5.0",
            "_model_name": "FloatProgressModel",
            "_view_count": null,
            "_view_module": "@jupyter-widgets/controls",
            "_view_module_version": "1.5.0",
            "_view_name": "ProgressView",
            "bar_style": "success",
            "description": "",
            "description_tooltip": null,
            "layout": "IPY_MODEL_1aac2f8ff6264926ab5b4442909335aa",
            "max": 85975,
            "min": 0,
            "orientation": "horizontal",
            "style": "IPY_MODEL_39761bd0f9494a158495768893384d7d",
            "value": 85975
          }
        },
        "5ddc4352cd5e46df96fa8bb19ed04628": {
          "model_module": "@jupyter-widgets/controls",
          "model_name": "HTMLModel",
          "model_module_version": "1.5.0",
          "state": {
            "_dom_classes": [],
            "_model_module": "@jupyter-widgets/controls",
            "_model_module_version": "1.5.0",
            "_model_name": "HTMLModel",
            "_view_count": null,
            "_view_module": "@jupyter-widgets/controls",
            "_view_module_version": "1.5.0",
            "_view_name": "HTMLView",
            "description": "",
            "description_tooltip": null,
            "layout": "IPY_MODEL_9db2957ebbbf471fbd0f933dae231a4a",
            "placeholder": "​",
            "style": "IPY_MODEL_8827c98d49e1465fa69427327d7be570",
            "value": " 85975/85975 [00:00&lt;00:00, 249928.00it/s]"
          }
        },
        "d524abf5f9ba4930ade1d8f50dc423ed": {
          "model_module": "@jupyter-widgets/base",
          "model_name": "LayoutModel",
          "model_module_version": "1.2.0",
          "state": {
            "_model_module": "@jupyter-widgets/base",
            "_model_module_version": "1.2.0",
            "_model_name": "LayoutModel",
            "_view_count": null,
            "_view_module": "@jupyter-widgets/base",
            "_view_module_version": "1.2.0",
            "_view_name": "LayoutView",
            "align_content": null,
            "align_items": null,
            "align_self": null,
            "border": null,
            "bottom": null,
            "display": null,
            "flex": null,
            "flex_flow": null,
            "grid_area": null,
            "grid_auto_columns": null,
            "grid_auto_flow": null,
            "grid_auto_rows": null,
            "grid_column": null,
            "grid_gap": null,
            "grid_row": null,
            "grid_template_areas": null,
            "grid_template_columns": null,
            "grid_template_rows": null,
            "height": null,
            "justify_content": null,
            "justify_items": null,
            "left": null,
            "margin": null,
            "max_height": null,
            "max_width": null,
            "min_height": null,
            "min_width": null,
            "object_fit": null,
            "object_position": null,
            "order": null,
            "overflow": null,
            "overflow_x": null,
            "overflow_y": null,
            "padding": null,
            "right": null,
            "top": null,
            "visibility": null,
            "width": null
          }
        },
        "2c84919877d243ea8ee2a3a44f7728d5": {
          "model_module": "@jupyter-widgets/base",
          "model_name": "LayoutModel",
          "model_module_version": "1.2.0",
          "state": {
            "_model_module": "@jupyter-widgets/base",
            "_model_module_version": "1.2.0",
            "_model_name": "LayoutModel",
            "_view_count": null,
            "_view_module": "@jupyter-widgets/base",
            "_view_module_version": "1.2.0",
            "_view_name": "LayoutView",
            "align_content": null,
            "align_items": null,
            "align_self": null,
            "border": null,
            "bottom": null,
            "display": null,
            "flex": null,
            "flex_flow": null,
            "grid_area": null,
            "grid_auto_columns": null,
            "grid_auto_flow": null,
            "grid_auto_rows": null,
            "grid_column": null,
            "grid_gap": null,
            "grid_row": null,
            "grid_template_areas": null,
            "grid_template_columns": null,
            "grid_template_rows": null,
            "height": null,
            "justify_content": null,
            "justify_items": null,
            "left": null,
            "margin": null,
            "max_height": null,
            "max_width": null,
            "min_height": null,
            "min_width": null,
            "object_fit": null,
            "object_position": null,
            "order": null,
            "overflow": null,
            "overflow_x": null,
            "overflow_y": null,
            "padding": null,
            "right": null,
            "top": null,
            "visibility": null,
            "width": null
          }
        },
        "4ca7028b20794763aa195b461fe2dcc5": {
          "model_module": "@jupyter-widgets/controls",
          "model_name": "DescriptionStyleModel",
          "model_module_version": "1.5.0",
          "state": {
            "_model_module": "@jupyter-widgets/controls",
            "_model_module_version": "1.5.0",
            "_model_name": "DescriptionStyleModel",
            "_view_count": null,
            "_view_module": "@jupyter-widgets/base",
            "_view_module_version": "1.2.0",
            "_view_name": "StyleView",
            "description_width": ""
          }
        },
        "1aac2f8ff6264926ab5b4442909335aa": {
          "model_module": "@jupyter-widgets/base",
          "model_name": "LayoutModel",
          "model_module_version": "1.2.0",
          "state": {
            "_model_module": "@jupyter-widgets/base",
            "_model_module_version": "1.2.0",
            "_model_name": "LayoutModel",
            "_view_count": null,
            "_view_module": "@jupyter-widgets/base",
            "_view_module_version": "1.2.0",
            "_view_name": "LayoutView",
            "align_content": null,
            "align_items": null,
            "align_self": null,
            "border": null,
            "bottom": null,
            "display": null,
            "flex": null,
            "flex_flow": null,
            "grid_area": null,
            "grid_auto_columns": null,
            "grid_auto_flow": null,
            "grid_auto_rows": null,
            "grid_column": null,
            "grid_gap": null,
            "grid_row": null,
            "grid_template_areas": null,
            "grid_template_columns": null,
            "grid_template_rows": null,
            "height": null,
            "justify_content": null,
            "justify_items": null,
            "left": null,
            "margin": null,
            "max_height": null,
            "max_width": null,
            "min_height": null,
            "min_width": null,
            "object_fit": null,
            "object_position": null,
            "order": null,
            "overflow": null,
            "overflow_x": null,
            "overflow_y": null,
            "padding": null,
            "right": null,
            "top": null,
            "visibility": null,
            "width": null
          }
        },
        "39761bd0f9494a158495768893384d7d": {
          "model_module": "@jupyter-widgets/controls",
          "model_name": "ProgressStyleModel",
          "model_module_version": "1.5.0",
          "state": {
            "_model_module": "@jupyter-widgets/controls",
            "_model_module_version": "1.5.0",
            "_model_name": "ProgressStyleModel",
            "_view_count": null,
            "_view_module": "@jupyter-widgets/base",
            "_view_module_version": "1.2.0",
            "_view_name": "StyleView",
            "bar_color": null,
            "description_width": ""
          }
        },
        "9db2957ebbbf471fbd0f933dae231a4a": {
          "model_module": "@jupyter-widgets/base",
          "model_name": "LayoutModel",
          "model_module_version": "1.2.0",
          "state": {
            "_model_module": "@jupyter-widgets/base",
            "_model_module_version": "1.2.0",
            "_model_name": "LayoutModel",
            "_view_count": null,
            "_view_module": "@jupyter-widgets/base",
            "_view_module_version": "1.2.0",
            "_view_name": "LayoutView",
            "align_content": null,
            "align_items": null,
            "align_self": null,
            "border": null,
            "bottom": null,
            "display": null,
            "flex": null,
            "flex_flow": null,
            "grid_area": null,
            "grid_auto_columns": null,
            "grid_auto_flow": null,
            "grid_auto_rows": null,
            "grid_column": null,
            "grid_gap": null,
            "grid_row": null,
            "grid_template_areas": null,
            "grid_template_columns": null,
            "grid_template_rows": null,
            "height": null,
            "justify_content": null,
            "justify_items": null,
            "left": null,
            "margin": null,
            "max_height": null,
            "max_width": null,
            "min_height": null,
            "min_width": null,
            "object_fit": null,
            "object_position": null,
            "order": null,
            "overflow": null,
            "overflow_x": null,
            "overflow_y": null,
            "padding": null,
            "right": null,
            "top": null,
            "visibility": null,
            "width": null
          }
        },
        "8827c98d49e1465fa69427327d7be570": {
          "model_module": "@jupyter-widgets/controls",
          "model_name": "DescriptionStyleModel",
          "model_module_version": "1.5.0",
          "state": {
            "_model_module": "@jupyter-widgets/controls",
            "_model_module_version": "1.5.0",
            "_model_name": "DescriptionStyleModel",
            "_view_count": null,
            "_view_module": "@jupyter-widgets/base",
            "_view_module_version": "1.2.0",
            "_view_name": "StyleView",
            "description_width": ""
          }
        },
        "274eed42392e468fb0b8e1c435b0799c": {
          "model_module": "@jupyter-widgets/controls",
          "model_name": "HBoxModel",
          "model_module_version": "1.5.0",
          "state": {
            "_dom_classes": [],
            "_model_module": "@jupyter-widgets/controls",
            "_model_module_version": "1.5.0",
            "_model_name": "HBoxModel",
            "_view_count": null,
            "_view_module": "@jupyter-widgets/controls",
            "_view_module_version": "1.5.0",
            "_view_name": "HBoxView",
            "box_style": "",
            "children": [
              "IPY_MODEL_f990a594ba3747e289c3d4314eff536f",
              "IPY_MODEL_ae9c3cd27bc94e61a4e40ede88ba9643",
              "IPY_MODEL_ef22f39f2618407d84dea9bd7f7c8538"
            ],
            "layout": "IPY_MODEL_37f619006a1b48feb822d42c84eb2270"
          }
        },
        "f990a594ba3747e289c3d4314eff536f": {
          "model_module": "@jupyter-widgets/controls",
          "model_name": "HTMLModel",
          "model_module_version": "1.5.0",
          "state": {
            "_dom_classes": [],
            "_model_module": "@jupyter-widgets/controls",
            "_model_module_version": "1.5.0",
            "_model_name": "HTMLModel",
            "_view_count": null,
            "_view_module": "@jupyter-widgets/controls",
            "_view_module_version": "1.5.0",
            "_view_name": "HTMLView",
            "description": "",
            "description_tooltip": null,
            "layout": "IPY_MODEL_6f2b5811e42b4fa7beafbc12b7b8e6f0",
            "placeholder": "​",
            "style": "IPY_MODEL_48adccb4b5134002a84155f8ae5c02e1",
            "value": ""
          }
        },
        "ae9c3cd27bc94e61a4e40ede88ba9643": {
          "model_module": "@jupyter-widgets/controls",
          "model_name": "FloatProgressModel",
          "model_module_version": "1.5.0",
          "state": {
            "_dom_classes": [],
            "_model_module": "@jupyter-widgets/controls",
            "_model_module_version": "1.5.0",
            "_model_name": "FloatProgressModel",
            "_view_count": null,
            "_view_module": "@jupyter-widgets/controls",
            "_view_module_version": "1.5.0",
            "_view_name": "ProgressView",
            "bar_style": "success",
            "description": "",
            "description_tooltip": null,
            "layout": "IPY_MODEL_d6c385a8068b4d2d85622228486e4290",
            "max": 1,
            "min": 0,
            "orientation": "horizontal",
            "style": "IPY_MODEL_c29c5da9e64141338a8375b6aa009b4e",
            "value": 1
          }
        },
        "ef22f39f2618407d84dea9bd7f7c8538": {
          "model_module": "@jupyter-widgets/controls",
          "model_name": "HTMLModel",
          "model_module_version": "1.5.0",
          "state": {
            "_dom_classes": [],
            "_model_module": "@jupyter-widgets/controls",
            "_model_module_version": "1.5.0",
            "_model_name": "HTMLModel",
            "_view_count": null,
            "_view_module": "@jupyter-widgets/controls",
            "_view_module_version": "1.5.0",
            "_view_name": "HTMLView",
            "description": "",
            "description_tooltip": null,
            "layout": "IPY_MODEL_dbc4c87cc5174312aa9c5aaa95a4519f",
            "placeholder": "​",
            "style": "IPY_MODEL_b995696ce1fe4747b611c8c7d5d14b58",
            "value": " 943/? [00:00&lt;00:00, 1519.17it/s]"
          }
        },
        "37f619006a1b48feb822d42c84eb2270": {
          "model_module": "@jupyter-widgets/base",
          "model_name": "LayoutModel",
          "model_module_version": "1.2.0",
          "state": {
            "_model_module": "@jupyter-widgets/base",
            "_model_module_version": "1.2.0",
            "_model_name": "LayoutModel",
            "_view_count": null,
            "_view_module": "@jupyter-widgets/base",
            "_view_module_version": "1.2.0",
            "_view_name": "LayoutView",
            "align_content": null,
            "align_items": null,
            "align_self": null,
            "border": null,
            "bottom": null,
            "display": null,
            "flex": null,
            "flex_flow": null,
            "grid_area": null,
            "grid_auto_columns": null,
            "grid_auto_flow": null,
            "grid_auto_rows": null,
            "grid_column": null,
            "grid_gap": null,
            "grid_row": null,
            "grid_template_areas": null,
            "grid_template_columns": null,
            "grid_template_rows": null,
            "height": null,
            "justify_content": null,
            "justify_items": null,
            "left": null,
            "margin": null,
            "max_height": null,
            "max_width": null,
            "min_height": null,
            "min_width": null,
            "object_fit": null,
            "object_position": null,
            "order": null,
            "overflow": null,
            "overflow_x": null,
            "overflow_y": null,
            "padding": null,
            "right": null,
            "top": null,
            "visibility": null,
            "width": null
          }
        },
        "6f2b5811e42b4fa7beafbc12b7b8e6f0": {
          "model_module": "@jupyter-widgets/base",
          "model_name": "LayoutModel",
          "model_module_version": "1.2.0",
          "state": {
            "_model_module": "@jupyter-widgets/base",
            "_model_module_version": "1.2.0",
            "_model_name": "LayoutModel",
            "_view_count": null,
            "_view_module": "@jupyter-widgets/base",
            "_view_module_version": "1.2.0",
            "_view_name": "LayoutView",
            "align_content": null,
            "align_items": null,
            "align_self": null,
            "border": null,
            "bottom": null,
            "display": null,
            "flex": null,
            "flex_flow": null,
            "grid_area": null,
            "grid_auto_columns": null,
            "grid_auto_flow": null,
            "grid_auto_rows": null,
            "grid_column": null,
            "grid_gap": null,
            "grid_row": null,
            "grid_template_areas": null,
            "grid_template_columns": null,
            "grid_template_rows": null,
            "height": null,
            "justify_content": null,
            "justify_items": null,
            "left": null,
            "margin": null,
            "max_height": null,
            "max_width": null,
            "min_height": null,
            "min_width": null,
            "object_fit": null,
            "object_position": null,
            "order": null,
            "overflow": null,
            "overflow_x": null,
            "overflow_y": null,
            "padding": null,
            "right": null,
            "top": null,
            "visibility": null,
            "width": null
          }
        },
        "48adccb4b5134002a84155f8ae5c02e1": {
          "model_module": "@jupyter-widgets/controls",
          "model_name": "DescriptionStyleModel",
          "model_module_version": "1.5.0",
          "state": {
            "_model_module": "@jupyter-widgets/controls",
            "_model_module_version": "1.5.0",
            "_model_name": "DescriptionStyleModel",
            "_view_count": null,
            "_view_module": "@jupyter-widgets/base",
            "_view_module_version": "1.2.0",
            "_view_name": "StyleView",
            "description_width": ""
          }
        },
        "d6c385a8068b4d2d85622228486e4290": {
          "model_module": "@jupyter-widgets/base",
          "model_name": "LayoutModel",
          "model_module_version": "1.2.0",
          "state": {
            "_model_module": "@jupyter-widgets/base",
            "_model_module_version": "1.2.0",
            "_model_name": "LayoutModel",
            "_view_count": null,
            "_view_module": "@jupyter-widgets/base",
            "_view_module_version": "1.2.0",
            "_view_name": "LayoutView",
            "align_content": null,
            "align_items": null,
            "align_self": null,
            "border": null,
            "bottom": null,
            "display": null,
            "flex": null,
            "flex_flow": null,
            "grid_area": null,
            "grid_auto_columns": null,
            "grid_auto_flow": null,
            "grid_auto_rows": null,
            "grid_column": null,
            "grid_gap": null,
            "grid_row": null,
            "grid_template_areas": null,
            "grid_template_columns": null,
            "grid_template_rows": null,
            "height": null,
            "justify_content": null,
            "justify_items": null,
            "left": null,
            "margin": null,
            "max_height": null,
            "max_width": null,
            "min_height": null,
            "min_width": null,
            "object_fit": null,
            "object_position": null,
            "order": null,
            "overflow": null,
            "overflow_x": null,
            "overflow_y": null,
            "padding": null,
            "right": null,
            "top": null,
            "visibility": null,
            "width": "20px"
          }
        },
        "c29c5da9e64141338a8375b6aa009b4e": {
          "model_module": "@jupyter-widgets/controls",
          "model_name": "ProgressStyleModel",
          "model_module_version": "1.5.0",
          "state": {
            "_model_module": "@jupyter-widgets/controls",
            "_model_module_version": "1.5.0",
            "_model_name": "ProgressStyleModel",
            "_view_count": null,
            "_view_module": "@jupyter-widgets/base",
            "_view_module_version": "1.2.0",
            "_view_name": "StyleView",
            "bar_color": null,
            "description_width": ""
          }
        },
        "dbc4c87cc5174312aa9c5aaa95a4519f": {
          "model_module": "@jupyter-widgets/base",
          "model_name": "LayoutModel",
          "model_module_version": "1.2.0",
          "state": {
            "_model_module": "@jupyter-widgets/base",
            "_model_module_version": "1.2.0",
            "_model_name": "LayoutModel",
            "_view_count": null,
            "_view_module": "@jupyter-widgets/base",
            "_view_module_version": "1.2.0",
            "_view_name": "LayoutView",
            "align_content": null,
            "align_items": null,
            "align_self": null,
            "border": null,
            "bottom": null,
            "display": null,
            "flex": null,
            "flex_flow": null,
            "grid_area": null,
            "grid_auto_columns": null,
            "grid_auto_flow": null,
            "grid_auto_rows": null,
            "grid_column": null,
            "grid_gap": null,
            "grid_row": null,
            "grid_template_areas": null,
            "grid_template_columns": null,
            "grid_template_rows": null,
            "height": null,
            "justify_content": null,
            "justify_items": null,
            "left": null,
            "margin": null,
            "max_height": null,
            "max_width": null,
            "min_height": null,
            "min_width": null,
            "object_fit": null,
            "object_position": null,
            "order": null,
            "overflow": null,
            "overflow_x": null,
            "overflow_y": null,
            "padding": null,
            "right": null,
            "top": null,
            "visibility": null,
            "width": null
          }
        },
        "b995696ce1fe4747b611c8c7d5d14b58": {
          "model_module": "@jupyter-widgets/controls",
          "model_name": "DescriptionStyleModel",
          "model_module_version": "1.5.0",
          "state": {
            "_model_module": "@jupyter-widgets/controls",
            "_model_module_version": "1.5.0",
            "_model_name": "DescriptionStyleModel",
            "_view_count": null,
            "_view_module": "@jupyter-widgets/base",
            "_view_module_version": "1.2.0",
            "_view_name": "StyleView",
            "description_width": ""
          }
        },
        "694ce0d830e8473294ffce1e4a7a1a3a": {
          "model_module": "@jupyter-widgets/controls",
          "model_name": "HBoxModel",
          "model_module_version": "1.5.0",
          "state": {
            "_dom_classes": [],
            "_model_module": "@jupyter-widgets/controls",
            "_model_module_version": "1.5.0",
            "_model_name": "HBoxModel",
            "_view_count": null,
            "_view_module": "@jupyter-widgets/controls",
            "_view_module_version": "1.5.0",
            "_view_name": "HBoxView",
            "box_style": "",
            "children": [
              "IPY_MODEL_8adcc310cf5242c7962066583afb4a66",
              "IPY_MODEL_b960a5cc489947b18cc04f0f2afde79a",
              "IPY_MODEL_debbf6c71a554d8cbfb7392e63697f99"
            ],
            "layout": "IPY_MODEL_c9b3479a9921414ca90d6d92951d8b16"
          }
        },
        "8adcc310cf5242c7962066583afb4a66": {
          "model_module": "@jupyter-widgets/controls",
          "model_name": "HTMLModel",
          "model_module_version": "1.5.0",
          "state": {
            "_dom_classes": [],
            "_model_module": "@jupyter-widgets/controls",
            "_model_module_version": "1.5.0",
            "_model_name": "HTMLModel",
            "_view_count": null,
            "_view_module": "@jupyter-widgets/controls",
            "_view_module_version": "1.5.0",
            "_view_name": "HTMLView",
            "description": "",
            "description_tooltip": null,
            "layout": "IPY_MODEL_41d171b61be84ee2ac6577c639d1ecc2",
            "placeholder": "​",
            "style": "IPY_MODEL_4124104ede104997b5952b9ff131a001",
            "value": ""
          }
        },
        "b960a5cc489947b18cc04f0f2afde79a": {
          "model_module": "@jupyter-widgets/controls",
          "model_name": "FloatProgressModel",
          "model_module_version": "1.5.0",
          "state": {
            "_dom_classes": [],
            "_model_module": "@jupyter-widgets/controls",
            "_model_module_version": "1.5.0",
            "_model_name": "FloatProgressModel",
            "_view_count": null,
            "_view_module": "@jupyter-widgets/controls",
            "_view_module_version": "1.5.0",
            "_view_name": "ProgressView",
            "bar_style": "success",
            "description": "",
            "description_tooltip": null,
            "layout": "IPY_MODEL_4bf51720bb8c4e61bb2ae1644b438c78",
            "max": 1,
            "min": 0,
            "orientation": "horizontal",
            "style": "IPY_MODEL_8bad71b6fe5c46e19d7644e8b2f26ce6",
            "value": 1
          }
        },
        "debbf6c71a554d8cbfb7392e63697f99": {
          "model_module": "@jupyter-widgets/controls",
          "model_name": "HTMLModel",
          "model_module_version": "1.5.0",
          "state": {
            "_dom_classes": [],
            "_model_module": "@jupyter-widgets/controls",
            "_model_module_version": "1.5.0",
            "_model_name": "HTMLModel",
            "_view_count": null,
            "_view_module": "@jupyter-widgets/controls",
            "_view_module_version": "1.5.0",
            "_view_name": "HTMLView",
            "description": "",
            "description_tooltip": null,
            "layout": "IPY_MODEL_4afa8947e34540c2a39973ec6d42d84b",
            "placeholder": "​",
            "style": "IPY_MODEL_e8e2c00237fc4bc999d76fbb51c92021",
            "value": " 943/? [00:00&lt;00:00, 1564.64it/s]"
          }
        },
        "c9b3479a9921414ca90d6d92951d8b16": {
          "model_module": "@jupyter-widgets/base",
          "model_name": "LayoutModel",
          "model_module_version": "1.2.0",
          "state": {
            "_model_module": "@jupyter-widgets/base",
            "_model_module_version": "1.2.0",
            "_model_name": "LayoutModel",
            "_view_count": null,
            "_view_module": "@jupyter-widgets/base",
            "_view_module_version": "1.2.0",
            "_view_name": "LayoutView",
            "align_content": null,
            "align_items": null,
            "align_self": null,
            "border": null,
            "bottom": null,
            "display": null,
            "flex": null,
            "flex_flow": null,
            "grid_area": null,
            "grid_auto_columns": null,
            "grid_auto_flow": null,
            "grid_auto_rows": null,
            "grid_column": null,
            "grid_gap": null,
            "grid_row": null,
            "grid_template_areas": null,
            "grid_template_columns": null,
            "grid_template_rows": null,
            "height": null,
            "justify_content": null,
            "justify_items": null,
            "left": null,
            "margin": null,
            "max_height": null,
            "max_width": null,
            "min_height": null,
            "min_width": null,
            "object_fit": null,
            "object_position": null,
            "order": null,
            "overflow": null,
            "overflow_x": null,
            "overflow_y": null,
            "padding": null,
            "right": null,
            "top": null,
            "visibility": null,
            "width": null
          }
        },
        "41d171b61be84ee2ac6577c639d1ecc2": {
          "model_module": "@jupyter-widgets/base",
          "model_name": "LayoutModel",
          "model_module_version": "1.2.0",
          "state": {
            "_model_module": "@jupyter-widgets/base",
            "_model_module_version": "1.2.0",
            "_model_name": "LayoutModel",
            "_view_count": null,
            "_view_module": "@jupyter-widgets/base",
            "_view_module_version": "1.2.0",
            "_view_name": "LayoutView",
            "align_content": null,
            "align_items": null,
            "align_self": null,
            "border": null,
            "bottom": null,
            "display": null,
            "flex": null,
            "flex_flow": null,
            "grid_area": null,
            "grid_auto_columns": null,
            "grid_auto_flow": null,
            "grid_auto_rows": null,
            "grid_column": null,
            "grid_gap": null,
            "grid_row": null,
            "grid_template_areas": null,
            "grid_template_columns": null,
            "grid_template_rows": null,
            "height": null,
            "justify_content": null,
            "justify_items": null,
            "left": null,
            "margin": null,
            "max_height": null,
            "max_width": null,
            "min_height": null,
            "min_width": null,
            "object_fit": null,
            "object_position": null,
            "order": null,
            "overflow": null,
            "overflow_x": null,
            "overflow_y": null,
            "padding": null,
            "right": null,
            "top": null,
            "visibility": null,
            "width": null
          }
        },
        "4124104ede104997b5952b9ff131a001": {
          "model_module": "@jupyter-widgets/controls",
          "model_name": "DescriptionStyleModel",
          "model_module_version": "1.5.0",
          "state": {
            "_model_module": "@jupyter-widgets/controls",
            "_model_module_version": "1.5.0",
            "_model_name": "DescriptionStyleModel",
            "_view_count": null,
            "_view_module": "@jupyter-widgets/base",
            "_view_module_version": "1.2.0",
            "_view_name": "StyleView",
            "description_width": ""
          }
        },
        "4bf51720bb8c4e61bb2ae1644b438c78": {
          "model_module": "@jupyter-widgets/base",
          "model_name": "LayoutModel",
          "model_module_version": "1.2.0",
          "state": {
            "_model_module": "@jupyter-widgets/base",
            "_model_module_version": "1.2.0",
            "_model_name": "LayoutModel",
            "_view_count": null,
            "_view_module": "@jupyter-widgets/base",
            "_view_module_version": "1.2.0",
            "_view_name": "LayoutView",
            "align_content": null,
            "align_items": null,
            "align_self": null,
            "border": null,
            "bottom": null,
            "display": null,
            "flex": null,
            "flex_flow": null,
            "grid_area": null,
            "grid_auto_columns": null,
            "grid_auto_flow": null,
            "grid_auto_rows": null,
            "grid_column": null,
            "grid_gap": null,
            "grid_row": null,
            "grid_template_areas": null,
            "grid_template_columns": null,
            "grid_template_rows": null,
            "height": null,
            "justify_content": null,
            "justify_items": null,
            "left": null,
            "margin": null,
            "max_height": null,
            "max_width": null,
            "min_height": null,
            "min_width": null,
            "object_fit": null,
            "object_position": null,
            "order": null,
            "overflow": null,
            "overflow_x": null,
            "overflow_y": null,
            "padding": null,
            "right": null,
            "top": null,
            "visibility": null,
            "width": "20px"
          }
        },
        "8bad71b6fe5c46e19d7644e8b2f26ce6": {
          "model_module": "@jupyter-widgets/controls",
          "model_name": "ProgressStyleModel",
          "model_module_version": "1.5.0",
          "state": {
            "_model_module": "@jupyter-widgets/controls",
            "_model_module_version": "1.5.0",
            "_model_name": "ProgressStyleModel",
            "_view_count": null,
            "_view_module": "@jupyter-widgets/base",
            "_view_module_version": "1.2.0",
            "_view_name": "StyleView",
            "bar_color": null,
            "description_width": ""
          }
        },
        "4afa8947e34540c2a39973ec6d42d84b": {
          "model_module": "@jupyter-widgets/base",
          "model_name": "LayoutModel",
          "model_module_version": "1.2.0",
          "state": {
            "_model_module": "@jupyter-widgets/base",
            "_model_module_version": "1.2.0",
            "_model_name": "LayoutModel",
            "_view_count": null,
            "_view_module": "@jupyter-widgets/base",
            "_view_module_version": "1.2.0",
            "_view_name": "LayoutView",
            "align_content": null,
            "align_items": null,
            "align_self": null,
            "border": null,
            "bottom": null,
            "display": null,
            "flex": null,
            "flex_flow": null,
            "grid_area": null,
            "grid_auto_columns": null,
            "grid_auto_flow": null,
            "grid_auto_rows": null,
            "grid_column": null,
            "grid_gap": null,
            "grid_row": null,
            "grid_template_areas": null,
            "grid_template_columns": null,
            "grid_template_rows": null,
            "height": null,
            "justify_content": null,
            "justify_items": null,
            "left": null,
            "margin": null,
            "max_height": null,
            "max_width": null,
            "min_height": null,
            "min_width": null,
            "object_fit": null,
            "object_position": null,
            "order": null,
            "overflow": null,
            "overflow_x": null,
            "overflow_y": null,
            "padding": null,
            "right": null,
            "top": null,
            "visibility": null,
            "width": null
          }
        },
        "e8e2c00237fc4bc999d76fbb51c92021": {
          "model_module": "@jupyter-widgets/controls",
          "model_name": "DescriptionStyleModel",
          "model_module_version": "1.5.0",
          "state": {
            "_model_module": "@jupyter-widgets/controls",
            "_model_module_version": "1.5.0",
            "_model_name": "DescriptionStyleModel",
            "_view_count": null,
            "_view_module": "@jupyter-widgets/base",
            "_view_module_version": "1.2.0",
            "_view_name": "StyleView",
            "description_width": ""
          }
        },
        "5d1c78817dd24394802c1e5d426e5631": {
          "model_module": "@jupyter-widgets/controls",
          "model_name": "HBoxModel",
          "model_module_version": "1.5.0",
          "state": {
            "_dom_classes": [],
            "_model_module": "@jupyter-widgets/controls",
            "_model_module_version": "1.5.0",
            "_model_name": "HBoxModel",
            "_view_count": null,
            "_view_module": "@jupyter-widgets/controls",
            "_view_module_version": "1.5.0",
            "_view_name": "HBoxView",
            "box_style": "",
            "children": [
              "IPY_MODEL_4506a8245b7b42669ec64dca5889a8d4",
              "IPY_MODEL_a3e02f20b54d4a49aac3532881fa8bd3",
              "IPY_MODEL_18db88625ce04fc6a1b6024c605cfa6f"
            ],
            "layout": "IPY_MODEL_54065a495464450791ac39b7e594e3f4"
          }
        },
        "4506a8245b7b42669ec64dca5889a8d4": {
          "model_module": "@jupyter-widgets/controls",
          "model_name": "HTMLModel",
          "model_module_version": "1.5.0",
          "state": {
            "_dom_classes": [],
            "_model_module": "@jupyter-widgets/controls",
            "_model_module_version": "1.5.0",
            "_model_name": "HTMLModel",
            "_view_count": null,
            "_view_module": "@jupyter-widgets/controls",
            "_view_module_version": "1.5.0",
            "_view_name": "HTMLView",
            "description": "",
            "description_tooltip": null,
            "layout": "IPY_MODEL_df805b88f0ba46a89e23421d62932d74",
            "placeholder": "​",
            "style": "IPY_MODEL_65b5b82c365147059d0ed40aa539f6ac",
            "value": "100%"
          }
        },
        "a3e02f20b54d4a49aac3532881fa8bd3": {
          "model_module": "@jupyter-widgets/controls",
          "model_name": "FloatProgressModel",
          "model_module_version": "1.5.0",
          "state": {
            "_dom_classes": [],
            "_model_module": "@jupyter-widgets/controls",
            "_model_module_version": "1.5.0",
            "_model_name": "FloatProgressModel",
            "_view_count": null,
            "_view_module": "@jupyter-widgets/controls",
            "_view_module_version": "1.5.0",
            "_view_name": "ProgressView",
            "bar_style": "success",
            "description": "",
            "description_tooltip": null,
            "layout": "IPY_MODEL_d5ba3400947a48e2b7b2bb649253450b",
            "max": 4,
            "min": 0,
            "orientation": "horizontal",
            "style": "IPY_MODEL_53cb5ac3bbea4d6baedcc858d929bdf4",
            "value": 4
          }
        },
        "18db88625ce04fc6a1b6024c605cfa6f": {
          "model_module": "@jupyter-widgets/controls",
          "model_name": "HTMLModel",
          "model_module_version": "1.5.0",
          "state": {
            "_dom_classes": [],
            "_model_module": "@jupyter-widgets/controls",
            "_model_module_version": "1.5.0",
            "_model_name": "HTMLModel",
            "_view_count": null,
            "_view_module": "@jupyter-widgets/controls",
            "_view_module_version": "1.5.0",
            "_view_name": "HTMLView",
            "description": "",
            "description_tooltip": null,
            "layout": "IPY_MODEL_a4cbf263a13e4692918156c0599bb955",
            "placeholder": "​",
            "style": "IPY_MODEL_5969eb569f5849adb92de2cb606744a4",
            "value": " 4/4 [00:46&lt;00:00, 12.79s/it]"
          }
        },
        "54065a495464450791ac39b7e594e3f4": {
          "model_module": "@jupyter-widgets/base",
          "model_name": "LayoutModel",
          "model_module_version": "1.2.0",
          "state": {
            "_model_module": "@jupyter-widgets/base",
            "_model_module_version": "1.2.0",
            "_model_name": "LayoutModel",
            "_view_count": null,
            "_view_module": "@jupyter-widgets/base",
            "_view_module_version": "1.2.0",
            "_view_name": "LayoutView",
            "align_content": null,
            "align_items": null,
            "align_self": null,
            "border": null,
            "bottom": null,
            "display": null,
            "flex": null,
            "flex_flow": null,
            "grid_area": null,
            "grid_auto_columns": null,
            "grid_auto_flow": null,
            "grid_auto_rows": null,
            "grid_column": null,
            "grid_gap": null,
            "grid_row": null,
            "grid_template_areas": null,
            "grid_template_columns": null,
            "grid_template_rows": null,
            "height": null,
            "justify_content": null,
            "justify_items": null,
            "left": null,
            "margin": null,
            "max_height": null,
            "max_width": null,
            "min_height": null,
            "min_width": null,
            "object_fit": null,
            "object_position": null,
            "order": null,
            "overflow": null,
            "overflow_x": null,
            "overflow_y": null,
            "padding": null,
            "right": null,
            "top": null,
            "visibility": null,
            "width": null
          }
        },
        "df805b88f0ba46a89e23421d62932d74": {
          "model_module": "@jupyter-widgets/base",
          "model_name": "LayoutModel",
          "model_module_version": "1.2.0",
          "state": {
            "_model_module": "@jupyter-widgets/base",
            "_model_module_version": "1.2.0",
            "_model_name": "LayoutModel",
            "_view_count": null,
            "_view_module": "@jupyter-widgets/base",
            "_view_module_version": "1.2.0",
            "_view_name": "LayoutView",
            "align_content": null,
            "align_items": null,
            "align_self": null,
            "border": null,
            "bottom": null,
            "display": null,
            "flex": null,
            "flex_flow": null,
            "grid_area": null,
            "grid_auto_columns": null,
            "grid_auto_flow": null,
            "grid_auto_rows": null,
            "grid_column": null,
            "grid_gap": null,
            "grid_row": null,
            "grid_template_areas": null,
            "grid_template_columns": null,
            "grid_template_rows": null,
            "height": null,
            "justify_content": null,
            "justify_items": null,
            "left": null,
            "margin": null,
            "max_height": null,
            "max_width": null,
            "min_height": null,
            "min_width": null,
            "object_fit": null,
            "object_position": null,
            "order": null,
            "overflow": null,
            "overflow_x": null,
            "overflow_y": null,
            "padding": null,
            "right": null,
            "top": null,
            "visibility": null,
            "width": null
          }
        },
        "65b5b82c365147059d0ed40aa539f6ac": {
          "model_module": "@jupyter-widgets/controls",
          "model_name": "DescriptionStyleModel",
          "model_module_version": "1.5.0",
          "state": {
            "_model_module": "@jupyter-widgets/controls",
            "_model_module_version": "1.5.0",
            "_model_name": "DescriptionStyleModel",
            "_view_count": null,
            "_view_module": "@jupyter-widgets/base",
            "_view_module_version": "1.2.0",
            "_view_name": "StyleView",
            "description_width": ""
          }
        },
        "d5ba3400947a48e2b7b2bb649253450b": {
          "model_module": "@jupyter-widgets/base",
          "model_name": "LayoutModel",
          "model_module_version": "1.2.0",
          "state": {
            "_model_module": "@jupyter-widgets/base",
            "_model_module_version": "1.2.0",
            "_model_name": "LayoutModel",
            "_view_count": null,
            "_view_module": "@jupyter-widgets/base",
            "_view_module_version": "1.2.0",
            "_view_name": "LayoutView",
            "align_content": null,
            "align_items": null,
            "align_self": null,
            "border": null,
            "bottom": null,
            "display": null,
            "flex": null,
            "flex_flow": null,
            "grid_area": null,
            "grid_auto_columns": null,
            "grid_auto_flow": null,
            "grid_auto_rows": null,
            "grid_column": null,
            "grid_gap": null,
            "grid_row": null,
            "grid_template_areas": null,
            "grid_template_columns": null,
            "grid_template_rows": null,
            "height": null,
            "justify_content": null,
            "justify_items": null,
            "left": null,
            "margin": null,
            "max_height": null,
            "max_width": null,
            "min_height": null,
            "min_width": null,
            "object_fit": null,
            "object_position": null,
            "order": null,
            "overflow": null,
            "overflow_x": null,
            "overflow_y": null,
            "padding": null,
            "right": null,
            "top": null,
            "visibility": null,
            "width": null
          }
        },
        "53cb5ac3bbea4d6baedcc858d929bdf4": {
          "model_module": "@jupyter-widgets/controls",
          "model_name": "ProgressStyleModel",
          "model_module_version": "1.5.0",
          "state": {
            "_model_module": "@jupyter-widgets/controls",
            "_model_module_version": "1.5.0",
            "_model_name": "ProgressStyleModel",
            "_view_count": null,
            "_view_module": "@jupyter-widgets/base",
            "_view_module_version": "1.2.0",
            "_view_name": "StyleView",
            "bar_color": null,
            "description_width": ""
          }
        },
        "a4cbf263a13e4692918156c0599bb955": {
          "model_module": "@jupyter-widgets/base",
          "model_name": "LayoutModel",
          "model_module_version": "1.2.0",
          "state": {
            "_model_module": "@jupyter-widgets/base",
            "_model_module_version": "1.2.0",
            "_model_name": "LayoutModel",
            "_view_count": null,
            "_view_module": "@jupyter-widgets/base",
            "_view_module_version": "1.2.0",
            "_view_name": "LayoutView",
            "align_content": null,
            "align_items": null,
            "align_self": null,
            "border": null,
            "bottom": null,
            "display": null,
            "flex": null,
            "flex_flow": null,
            "grid_area": null,
            "grid_auto_columns": null,
            "grid_auto_flow": null,
            "grid_auto_rows": null,
            "grid_column": null,
            "grid_gap": null,
            "grid_row": null,
            "grid_template_areas": null,
            "grid_template_columns": null,
            "grid_template_rows": null,
            "height": null,
            "justify_content": null,
            "justify_items": null,
            "left": null,
            "margin": null,
            "max_height": null,
            "max_width": null,
            "min_height": null,
            "min_width": null,
            "object_fit": null,
            "object_position": null,
            "order": null,
            "overflow": null,
            "overflow_x": null,
            "overflow_y": null,
            "padding": null,
            "right": null,
            "top": null,
            "visibility": null,
            "width": null
          }
        },
        "5969eb569f5849adb92de2cb606744a4": {
          "model_module": "@jupyter-widgets/controls",
          "model_name": "DescriptionStyleModel",
          "model_module_version": "1.5.0",
          "state": {
            "_model_module": "@jupyter-widgets/controls",
            "_model_module_version": "1.5.0",
            "_model_name": "DescriptionStyleModel",
            "_view_count": null,
            "_view_module": "@jupyter-widgets/base",
            "_view_module_version": "1.2.0",
            "_view_name": "StyleView",
            "description_width": ""
          }
        }
      }
    }
  },
  "cells": [
    {
      "cell_type": "markdown",
      "metadata": {
        "id": "view-in-github",
        "colab_type": "text"
      },
      "source": [
        "<a href=\"https://colab.research.google.com/github/Lausti98/bsc-recsys/blob/main/bsc_initial_dataset_selection.ipynb\" target=\"_parent\"><img src=\"https://colab.research.google.com/assets/colab-badge.svg\" alt=\"Open In Colab\"/></a>"
      ]
    },
    {
      "cell_type": "code",
      "execution_count": null,
      "metadata": {
        "colab": {
          "base_uri": "https://localhost:8080/"
        },
        "id": "Jph78KzWHLl4",
        "outputId": "bf3a2847-ab7c-49fb-9ae3-35e9429d0ff0"
      },
      "outputs": [
        {
          "output_type": "stream",
          "name": "stdout",
          "text": [
            "Looking in indexes: https://pypi.org/simple, https://us-python.pkg.dev/colab-wheels/public/simple/\n",
            "Requirement already satisfied: recpack in /usr/local/lib/python3.8/dist-packages (0.3.5)\n",
            "Requirement already satisfied: torch==1.*,>=1.9.0 in /usr/local/lib/python3.8/dist-packages (from recpack) (1.13.1+cu116)\n",
            "Requirement already satisfied: numpy==1.*,>=1.21.2 in /usr/local/lib/python3.8/dist-packages (from recpack) (1.22.4)\n",
            "Requirement already satisfied: PyYAML==5.*,>=5.4.1 in /usr/local/lib/python3.8/dist-packages (from recpack) (5.4.1)\n",
            "Requirement already satisfied: pandas==1.*,>=1.2.1 in /usr/local/lib/python3.8/dist-packages (from recpack) (1.3.5)\n",
            "Requirement already satisfied: tqdm==4.*,>=4.46.0 in /usr/local/lib/python3.8/dist-packages (from recpack) (4.64.1)\n",
            "Requirement already satisfied: scipy==1.*,>=1.6.0 in /usr/local/lib/python3.8/dist-packages (from recpack) (1.10.1)\n",
            "Requirement already satisfied: hyperopt==0.2.*,>=0.2.7 in /usr/local/lib/python3.8/dist-packages (from recpack) (0.2.7)\n",
            "Requirement already satisfied: scikit-learn==1.*,>=1.1.1 in /usr/local/lib/python3.8/dist-packages (from recpack) (1.2.1)\n",
            "Requirement already satisfied: networkx>=2.2 in /usr/local/lib/python3.8/dist-packages (from hyperopt==0.2.*,>=0.2.7->recpack) (3.0)\n",
            "Requirement already satisfied: six in /usr/local/lib/python3.8/dist-packages (from hyperopt==0.2.*,>=0.2.7->recpack) (1.15.0)\n",
            "Requirement already satisfied: future in /usr/local/lib/python3.8/dist-packages (from hyperopt==0.2.*,>=0.2.7->recpack) (0.16.0)\n",
            "Requirement already satisfied: py4j in /usr/local/lib/python3.8/dist-packages (from hyperopt==0.2.*,>=0.2.7->recpack) (0.10.9.7)\n",
            "Requirement already satisfied: cloudpickle in /usr/local/lib/python3.8/dist-packages (from hyperopt==0.2.*,>=0.2.7->recpack) (2.2.1)\n",
            "Requirement already satisfied: pytz>=2017.3 in /usr/local/lib/python3.8/dist-packages (from pandas==1.*,>=1.2.1->recpack) (2022.7.1)\n",
            "Requirement already satisfied: python-dateutil>=2.7.3 in /usr/local/lib/python3.8/dist-packages (from pandas==1.*,>=1.2.1->recpack) (2.8.2)\n",
            "Requirement already satisfied: threadpoolctl>=2.0.0 in /usr/local/lib/python3.8/dist-packages (from scikit-learn==1.*,>=1.1.1->recpack) (3.1.0)\n",
            "Requirement already satisfied: joblib>=1.1.1 in /usr/local/lib/python3.8/dist-packages (from scikit-learn==1.*,>=1.1.1->recpack) (1.2.0)\n",
            "Requirement already satisfied: typing-extensions in /usr/local/lib/python3.8/dist-packages (from torch==1.*,>=1.9.0->recpack) (4.5.0)\n"
          ]
        }
      ],
      "source": [
        "!pip install recpack"
      ]
    },
    {
      "cell_type": "markdown",
      "source": [
        "## Load dataset"
      ],
      "metadata": {
        "id": "SLU6xjsgqyPu"
      }
    },
    {
      "cell_type": "code",
      "source": [
        "from recpack.datasets import MovieLens100K\n",
        "from recpack.preprocessing.filters import MinRating, MinUsersPerItem, MinItemsPerUser\n",
        "from recpack.scenarios import WeakGeneralization\n",
        "\n",
        "ml_loader = MovieLens100K(path='datasets/', filename='ml-1k.csv', use_default_filters=False)\n",
        "# Consider ratings 2 or higher as interactions\n",
        "ml_loader.add_filter(MinRating(\n",
        "    2,\n",
        "    ml_loader.RATING_IX,\n",
        "))\n",
        "# Keep users with at least 5 interactions\n",
        "ml_loader.add_filter(MinItemsPerUser(\n",
        "    5,\n",
        "    ml_loader.ITEM_IX,\n",
        "    ml_loader.USER_IX,\n",
        "))\n",
        "# Keep items with at least 30 interactions\n",
        "ml_loader.add_filter(MinUsersPerItem(\n",
        "    30,\n",
        "    ml_loader.ITEM_IX,\n",
        "    ml_loader.USER_IX,\n",
        "))\n",
        "\n",
        "data = ml_loader.load()"
      ],
      "metadata": {
        "id": "tl6HI7MzHfsP",
        "colab": {
          "base_uri": "https://localhost:8080/",
          "height": 81,
          "referenced_widgets": [
            "f29d7299f8ab46f4a09adce08581b398",
            "4a4a274cea0c451794f57a5cf179cd79",
            "e548d32f62c44b0381109d7634d879fc",
            "1d1e90975414494382dc2192a73a8ca9",
            "bd1418d947774703ad452529aa6c6185",
            "e403b5b4c3b94b4f9193b2fba7cdc78e",
            "ad581901bdb043a19ee2ffca7539a8c9",
            "e49cacb9842048129f72f93b541b3732",
            "143e158d090a4aa29f78d0135f0873f1",
            "6491bd72f74d4343baf69cdda80ea9d5",
            "7ff1a1b81a75467db3ef71d4f6984e57",
            "c2d0ce2b503748afacea5798b8aa0206",
            "41e6729bed6d4fc3bac1244938bc0bf8",
            "cef4f16044084026890b60ae588ac8e1",
            "5ddc4352cd5e46df96fa8bb19ed04628",
            "d524abf5f9ba4930ade1d8f50dc423ed",
            "2c84919877d243ea8ee2a3a44f7728d5",
            "4ca7028b20794763aa195b461fe2dcc5",
            "1aac2f8ff6264926ab5b4442909335aa",
            "39761bd0f9494a158495768893384d7d",
            "9db2957ebbbf471fbd0f933dae231a4a",
            "8827c98d49e1465fa69427327d7be570"
          ]
        },
        "outputId": "ff527c00-3617-4078-8940-4998634d3018"
      },
      "execution_count": null,
      "outputs": [
        {
          "output_type": "display_data",
          "data": {
            "text/plain": [
              "  0%|          | 0/85975 [00:00<?, ?it/s]"
            ],
            "application/vnd.jupyter.widget-view+json": {
              "version_major": 2,
              "version_minor": 0,
              "model_id": "f29d7299f8ab46f4a09adce08581b398"
            }
          },
          "metadata": {}
        },
        {
          "output_type": "display_data",
          "data": {
            "text/plain": [
              "  0%|          | 0/85975 [00:00<?, ?it/s]"
            ],
            "application/vnd.jupyter.widget-view+json": {
              "version_major": 2,
              "version_minor": 0,
              "model_id": "c2d0ce2b503748afacea5798b8aa0206"
            }
          },
          "metadata": {}
        }
      ]
    },
    {
      "cell_type": "code",
      "source": [
        "print(data.num_active_items)\n",
        "print(data.num_active_users)\n",
        "print(data.properties)\n",
        "print(data.density)"
      ],
      "metadata": {
        "id": "QpG3UuQQH1bK",
        "colab": {
          "base_uri": "https://localhost:8080/"
        },
        "outputId": "8c7bcabf-2a60-4ce9-b356-94ef6f17bebe"
      },
      "execution_count": null,
      "outputs": [
        {
          "output_type": "stream",
          "name": "stdout",
          "text": [
            "763\n",
            "943\n",
            "InteractionMatrix.InteractionMatrixProperties(num_users=943, num_items=763, has_timestamps=True)\n",
            "0.11949120858807881\n"
          ]
        }
      ]
    },
    {
      "cell_type": "code",
      "source": [
        "# Split data into train, test and validation set. Random split not accounting for time data.\n",
        "scenario = WeakGeneralization(0.75, validation=True)\n",
        "scenario.split(data)"
      ],
      "metadata": {
        "id": "qzwkCeCvofza",
        "colab": {
          "base_uri": "https://localhost:8080/",
          "height": 81,
          "referenced_widgets": [
            "274eed42392e468fb0b8e1c435b0799c",
            "f990a594ba3747e289c3d4314eff536f",
            "ae9c3cd27bc94e61a4e40ede88ba9643",
            "ef22f39f2618407d84dea9bd7f7c8538",
            "37f619006a1b48feb822d42c84eb2270",
            "6f2b5811e42b4fa7beafbc12b7b8e6f0",
            "48adccb4b5134002a84155f8ae5c02e1",
            "d6c385a8068b4d2d85622228486e4290",
            "c29c5da9e64141338a8375b6aa009b4e",
            "dbc4c87cc5174312aa9c5aaa95a4519f",
            "b995696ce1fe4747b611c8c7d5d14b58",
            "694ce0d830e8473294ffce1e4a7a1a3a",
            "8adcc310cf5242c7962066583afb4a66",
            "b960a5cc489947b18cc04f0f2afde79a",
            "debbf6c71a554d8cbfb7392e63697f99",
            "c9b3479a9921414ca90d6d92951d8b16",
            "41d171b61be84ee2ac6577c639d1ecc2",
            "4124104ede104997b5952b9ff131a001",
            "4bf51720bb8c4e61bb2ae1644b438c78",
            "8bad71b6fe5c46e19d7644e8b2f26ce6",
            "4afa8947e34540c2a39973ec6d42d84b",
            "e8e2c00237fc4bc999d76fbb51c92021"
          ]
        },
        "outputId": "d6a5fd6b-4632-4e94-aa71-0bb22535b2e2"
      },
      "execution_count": null,
      "outputs": [
        {
          "output_type": "display_data",
          "data": {
            "text/plain": [
              "0it [00:00, ?it/s]"
            ],
            "application/vnd.jupyter.widget-view+json": {
              "version_major": 2,
              "version_minor": 0,
              "model_id": "274eed42392e468fb0b8e1c435b0799c"
            }
          },
          "metadata": {}
        },
        {
          "output_type": "display_data",
          "data": {
            "text/plain": [
              "0it [00:00, ?it/s]"
            ],
            "application/vnd.jupyter.widget-view+json": {
              "version_major": 2,
              "version_minor": 0,
              "model_id": "694ce0d830e8473294ffce1e4a7a1a3a"
            }
          },
          "metadata": {}
        }
      ]
    },
    {
      "cell_type": "code",
      "source": [
        "from recpack.pipelines import PipelineBuilder\n",
        "\n",
        "builder = PipelineBuilder()\n",
        "\n",
        "builder.set_data_from_scenario(scenario)"
      ],
      "metadata": {
        "id": "oTUOQoqurIre"
      },
      "execution_count": null,
      "outputs": []
    },
    {
      "cell_type": "markdown",
      "source": [
        "## Popularity baseline model"
      ],
      "metadata": {
        "id": "n3GufkrSrMy0"
      }
    },
    {
      "cell_type": "code",
      "source": [
        "builder.add_algorithm('Popularity') # No real parameters to optimise"
      ],
      "metadata": {
        "id": "PuXkCwtorMcN"
      },
      "execution_count": null,
      "outputs": []
    },
    {
      "cell_type": "markdown",
      "source": [
        "## Collaborative filtering "
      ],
      "metadata": {
        "id": "VLB6IMjoqKw3"
      }
    },
    {
      "cell_type": "code",
      "source": [
        "# ITEM BASED Nearest Neighbors Recommendation Recommender Systems: An Introduction 2.2\n",
        "builder.add_algorithm('ItemKNN', grid={\n",
        "    'K': [100, 200, 500, 700, 900, 1000],\n",
        "    'similarity': ['cosine', 'conditional_probability'],\n",
        "})"
      ],
      "metadata": {
        "id": "xeWY-cEKqKL_",
        "colab": {
          "base_uri": "https://localhost:8080/"
        },
        "outputId": "f736fe0b-df5c-407c-f9c2-0beef07bebc1"
      },
      "execution_count": null,
      "outputs": [
        {
          "output_type": "stream",
          "name": "stderr",
          "text": [
            "/usr/local/lib/python3.8/dist-packages/recpack/pipelines/pipeline_builder.py:145: UserWarning: Grid parameter for add_algorithm function will be deprecated in favour of optimisation_info.\n",
            "  warnings.warn(\n"
          ]
        }
      ]
    },
    {
      "cell_type": "code",
      "source": [
        "builder.add_algorithm('SLIM')\n",
        "#builder.add_algorithm('ItemPNN', grid={\n",
        "#    'K': [100, 200, 500],\n",
        "#    'similarity': ['cosine'],\n",
        "#})\n",
        "#builder.add_algorithm('NMFItemToItem', grid={\n",
        "#    'num_components': [100, 200, 500],\n",
        "#    'seed': [1],\n",
        "#})\n",
        "#builder.add_algorithm('SVDItemToItem', grid={\n",
        "#    'num_components': [100, 200, 500],\n",
        "#    'seed': [1],\n",
        "#})\n",
        "#builder.add_algorithm('Prod2Vec', grid={\n",
        "#    'num_components': [100, 200, 500],\n",
        "#    'seed': [1],\n",
        "#})\n"
      ],
      "metadata": {
        "id": "CjE81GhD27oc"
      },
      "execution_count": null,
      "outputs": []
    },
    {
      "cell_type": "code",
      "source": [
        "# Accounting for timeseries data ITEM BASED NN \n",
        "#builder.add_algorithm('TARSItemKNN', grid={\n",
        "#    'K': [100, 200, 500],\n",
        "#    'similarity': ['cosine', 'conditional_probability'],\n",
        "#})"
      ],
      "metadata": {
        "id": "cFm_dG5C0OLr"
      },
      "execution_count": null,
      "outputs": []
    },
    {
      "cell_type": "markdown",
      "source": [
        "## Hybrid algorithm"
      ],
      "metadata": {
        "id": "C0aScO7Xy3Py"
      }
    },
    {
      "cell_type": "code",
      "source": [
        "# Unified item and user based nearet neighbors recommendation Recommender Systems: An Introduction 5.2.1\n",
        "\n",
        "builder.add_algorithm('KUNN', grid={\n",
        "    'Ku': [100, 200, 500],\n",
        "    'Ki': [100, 200, 500],\n",
        "})"
      ],
      "metadata": {
        "id": "mqxAqlbQxvQJ"
      },
      "execution_count": null,
      "outputs": []
    },
    {
      "cell_type": "markdown",
      "source": [
        "## Add metrics\n",
        "NDCG metric is the Normalized Discounted Cumulative Gain. The metric scores the algorithms not by their precision (correct prediction) but on the gain of the prediciton. Gain is the proximity of the prediction to the real value. \n",
        "\n",
        "See article https://machinelearninginterview.com/topics/machine-learning/ndcg-evaluation-metric-for-recommender-systems/ for more information\n",
        "$$NDCG_{@K}= \\frac{DCG_{@K}}{IDCG_{@K}}$$ \\\\\n",
        "\n",
        "$$IDCG_{@K}=\\sum_{i=1}^{K^{ideal}} \\frac{G^{ideal}_i}{log_2 (i+1)}$$"
      ],
      "metadata": {
        "id": "sBqrJKdQr4WD"
      }
    },
    {
      "cell_type": "code",
      "source": [
        "builder.set_optimisation_metric('NDCGK', K=10)\n",
        "builder.add_metric('NDCGK', K=[10, 20, 50])\n",
        "builder.add_metric('CoverageK', K=[10, 20])\n",
        "builder.add_metric('RecallK', K=[10, 20, 50])\n",
        "builder.add_metric('PrecisionK', K=[10, 20, 50])"
      ],
      "metadata": {
        "id": "7KVWOQglr6_B"
      },
      "execution_count": null,
      "outputs": []
    },
    {
      "cell_type": "markdown",
      "source": [
        "## Run pipeline"
      ],
      "metadata": {
        "id": "O4_vu5FNr-RZ"
      }
    },
    {
      "cell_type": "code",
      "source": [
        "pipeline = builder.build()\n",
        "pipeline.run()\n",
        "pipeline.get_metrics()"
      ],
      "metadata": {
        "id": "iCd4hS5Br9yc",
        "colab": {
          "base_uri": "https://localhost:8080/",
          "height": 1000,
          "referenced_widgets": [
            "5d1c78817dd24394802c1e5d426e5631",
            "4506a8245b7b42669ec64dca5889a8d4",
            "a3e02f20b54d4a49aac3532881fa8bd3",
            "18db88625ce04fc6a1b6024c605cfa6f",
            "54065a495464450791ac39b7e594e3f4",
            "df805b88f0ba46a89e23421d62932d74",
            "65b5b82c365147059d0ed40aa539f6ac",
            "d5ba3400947a48e2b7b2bb649253450b",
            "53cb5ac3bbea4d6baedcc858d929bdf4",
            "a4cbf263a13e4692918156c0599bb955",
            "5969eb569f5849adb92de2cb606744a4"
          ]
        },
        "outputId": "765ece3b-f8f5-446f-f681-30fb33018b8b"
      },
      "execution_count": null,
      "outputs": [
        {
          "output_type": "display_data",
          "data": {
            "text/plain": [
              "  0%|          | 0/4 [00:00<?, ?it/s]"
            ],
            "application/vnd.jupyter.widget-view+json": {
              "version_major": 2,
              "version_minor": 0,
              "model_id": "5d1c78817dd24394802c1e5d426e5631"
            }
          },
          "metadata": {}
        },
        {
          "output_type": "stream",
          "name": "stdout",
          "text": [
            "2023-03-02 18:43:46,245 - base - recpack - INFO - Fitting Popularity complete - Took 0.0378s\n"
          ]
        },
        {
          "output_type": "stream",
          "name": "stderr",
          "text": [
            "INFO:recpack:Fitting Popularity complete - Took 0.0378s\n"
          ]
        },
        {
          "output_type": "stream",
          "name": "stdout",
          "text": [
            "2023-03-02 18:43:47,723 - base - recpack - INFO - Fitting ItemKNN complete - Took 0.319s\n"
          ]
        },
        {
          "output_type": "stream",
          "name": "stderr",
          "text": [
            "INFO:recpack:Fitting ItemKNN complete - Took 0.319s\n",
            "/usr/local/lib/python3.8/dist-packages/scipy/sparse/_index.py:146: SparseEfficiencyWarning: Changing the sparsity structure of a csr_matrix is expensive. lil_matrix is more efficient.\n",
            "  self._set_arrayXarray(i, j, x)\n"
          ]
        },
        {
          "output_type": "stream",
          "name": "stdout",
          "text": [
            "2023-03-02 18:43:48,230 - base - recpack - INFO - Fitting ItemKNN complete - Took 0.272s\n"
          ]
        },
        {
          "output_type": "stream",
          "name": "stderr",
          "text": [
            "INFO:recpack:Fitting ItemKNN complete - Took 0.272s\n"
          ]
        },
        {
          "output_type": "stream",
          "name": "stdout",
          "text": [
            "2023-03-02 18:43:48,913 - base - recpack - INFO - Fitting ItemKNN complete - Took 0.492s\n"
          ]
        },
        {
          "output_type": "stream",
          "name": "stderr",
          "text": [
            "INFO:recpack:Fitting ItemKNN complete - Took 0.492s\n"
          ]
        },
        {
          "output_type": "stream",
          "name": "stdout",
          "text": [
            "2023-03-02 18:43:49,646 - base - recpack - INFO - Fitting ItemKNN complete - Took 0.276s\n"
          ]
        },
        {
          "output_type": "stream",
          "name": "stderr",
          "text": [
            "INFO:recpack:Fitting ItemKNN complete - Took 0.276s\n"
          ]
        },
        {
          "output_type": "stream",
          "name": "stdout",
          "text": [
            "2023-03-02 18:43:50,445 - base - recpack - INFO - Fitting ItemKNN complete - Took 0.64s\n"
          ]
        },
        {
          "output_type": "stream",
          "name": "stderr",
          "text": [
            "INFO:recpack:Fitting ItemKNN complete - Took 0.64s\n"
          ]
        },
        {
          "output_type": "stream",
          "name": "stdout",
          "text": [
            "2023-03-02 18:43:51,751 - base - recpack - INFO - Fitting ItemKNN complete - Took 1.05s\n"
          ]
        },
        {
          "output_type": "stream",
          "name": "stderr",
          "text": [
            "INFO:recpack:Fitting ItemKNN complete - Took 1.05s\n"
          ]
        },
        {
          "output_type": "stream",
          "name": "stdout",
          "text": [
            "2023-03-02 18:43:53,989 - base - recpack - INFO - Fitting ItemKNN complete - Took 1.71s\n"
          ]
        },
        {
          "output_type": "stream",
          "name": "stderr",
          "text": [
            "INFO:recpack:Fitting ItemKNN complete - Took 1.71s\n"
          ]
        },
        {
          "output_type": "stream",
          "name": "stdout",
          "text": [
            "2023-03-02 18:43:56,511 - base - recpack - INFO - Fitting ItemKNN complete - Took 2.07s\n"
          ]
        },
        {
          "output_type": "stream",
          "name": "stderr",
          "text": [
            "INFO:recpack:Fitting ItemKNN complete - Took 2.07s\n"
          ]
        },
        {
          "output_type": "stream",
          "name": "stdout",
          "text": [
            "2023-03-02 18:43:58,164 - base - recpack - INFO - Fitting ItemKNN complete - Took 1.23s\n"
          ]
        },
        {
          "output_type": "stream",
          "name": "stderr",
          "text": [
            "INFO:recpack:Fitting ItemKNN complete - Took 1.23s\n"
          ]
        },
        {
          "output_type": "stream",
          "name": "stdout",
          "text": [
            "2023-03-02 18:43:59,793 - base - recpack - INFO - Fitting ItemKNN complete - Took 1.36s\n"
          ]
        },
        {
          "output_type": "stream",
          "name": "stderr",
          "text": [
            "INFO:recpack:Fitting ItemKNN complete - Took 1.36s\n"
          ]
        },
        {
          "output_type": "stream",
          "name": "stdout",
          "text": [
            "2023-03-02 18:44:02,046 - base - recpack - INFO - Fitting ItemKNN complete - Took 1.8s\n"
          ]
        },
        {
          "output_type": "stream",
          "name": "stderr",
          "text": [
            "INFO:recpack:Fitting ItemKNN complete - Took 1.8s\n"
          ]
        },
        {
          "output_type": "stream",
          "name": "stdout",
          "text": [
            "2023-03-02 18:44:03,716 - base - recpack - INFO - Fitting ItemKNN complete - Took 1.25s\n"
          ]
        },
        {
          "output_type": "stream",
          "name": "stderr",
          "text": [
            "INFO:recpack:Fitting ItemKNN complete - Took 1.25s\n"
          ]
        },
        {
          "output_type": "stream",
          "name": "stdout",
          "text": [
            "2023-03-02 18:44:04,939 - base - recpack - INFO - Fitting ItemKNN complete - Took 0.946s\n"
          ]
        },
        {
          "output_type": "stream",
          "name": "stderr",
          "text": [
            "INFO:recpack:Fitting ItemKNN complete - Took 0.946s\n"
          ]
        },
        {
          "output_type": "stream",
          "name": "stdout",
          "text": [
            "2023-03-02 18:44:17,831 - base - recpack - INFO - Fitting SLIM complete - Took 12.0s\n"
          ]
        },
        {
          "output_type": "stream",
          "name": "stderr",
          "text": [
            "INFO:recpack:Fitting SLIM complete - Took 12.0s\n"
          ]
        },
        {
          "output_type": "stream",
          "name": "stdout",
          "text": [
            "2023-03-02 18:44:18,744 - base - recpack - INFO - Fitting KUNN complete - Took 0.139s\n"
          ]
        },
        {
          "output_type": "stream",
          "name": "stderr",
          "text": [
            "INFO:recpack:Fitting KUNN complete - Took 0.139s\n"
          ]
        },
        {
          "output_type": "stream",
          "name": "stdout",
          "text": [
            "2023-03-02 18:44:19,514 - base - recpack - INFO - Fitting KUNN complete - Took 0.129s\n"
          ]
        },
        {
          "output_type": "stream",
          "name": "stderr",
          "text": [
            "INFO:recpack:Fitting KUNN complete - Took 0.129s\n"
          ]
        },
        {
          "output_type": "stream",
          "name": "stdout",
          "text": [
            "2023-03-02 18:44:20,398 - base - recpack - INFO - Fitting KUNN complete - Took 0.136s\n"
          ]
        },
        {
          "output_type": "stream",
          "name": "stderr",
          "text": [
            "INFO:recpack:Fitting KUNN complete - Took 0.136s\n"
          ]
        },
        {
          "output_type": "stream",
          "name": "stdout",
          "text": [
            "2023-03-02 18:44:21,906 - base - recpack - INFO - Fitting KUNN complete - Took 0.247s\n"
          ]
        },
        {
          "output_type": "stream",
          "name": "stderr",
          "text": [
            "INFO:recpack:Fitting KUNN complete - Took 0.247s\n"
          ]
        },
        {
          "output_type": "stream",
          "name": "stdout",
          "text": [
            "2023-03-02 18:44:22,756 - base - recpack - INFO - Fitting KUNN complete - Took 0.218s\n"
          ]
        },
        {
          "output_type": "stream",
          "name": "stderr",
          "text": [
            "INFO:recpack:Fitting KUNN complete - Took 0.218s\n"
          ]
        },
        {
          "output_type": "stream",
          "name": "stdout",
          "text": [
            "2023-03-02 18:44:23,736 - base - recpack - INFO - Fitting KUNN complete - Took 0.216s\n"
          ]
        },
        {
          "output_type": "stream",
          "name": "stderr",
          "text": [
            "INFO:recpack:Fitting KUNN complete - Took 0.216s\n"
          ]
        },
        {
          "output_type": "stream",
          "name": "stdout",
          "text": [
            "2023-03-02 18:44:25,643 - base - recpack - INFO - Fitting KUNN complete - Took 0.622s\n"
          ]
        },
        {
          "output_type": "stream",
          "name": "stderr",
          "text": [
            "INFO:recpack:Fitting KUNN complete - Took 0.622s\n"
          ]
        },
        {
          "output_type": "stream",
          "name": "stdout",
          "text": [
            "2023-03-02 18:44:27,623 - base - recpack - INFO - Fitting KUNN complete - Took 0.932s\n"
          ]
        },
        {
          "output_type": "stream",
          "name": "stderr",
          "text": [
            "INFO:recpack:Fitting KUNN complete - Took 0.932s\n"
          ]
        },
        {
          "output_type": "stream",
          "name": "stdout",
          "text": [
            "2023-03-02 18:44:29,331 - base - recpack - INFO - Fitting KUNN complete - Took 0.6s\n"
          ]
        },
        {
          "output_type": "stream",
          "name": "stderr",
          "text": [
            "INFO:recpack:Fitting KUNN complete - Took 0.6s\n"
          ]
        },
        {
          "output_type": "stream",
          "name": "stdout",
          "text": [
            "2023-03-02 18:44:31,292 - base - recpack - INFO - Fitting KUNN complete - Took 0.639s\n"
          ]
        },
        {
          "output_type": "stream",
          "name": "stderr",
          "text": [
            "INFO:recpack:Fitting KUNN complete - Took 0.639s\n"
          ]
        },
        {
          "output_type": "execute_result",
          "data": {
            "text/plain": [
              "                                                    NDCGK_10  NDCGK_20  \\\n",
              "Popularity(K=200)                                   0.235652  0.231848   \n",
              "ItemKNN(K=700,normalize_X=False,normalize_sim=F...  0.387507  0.381751   \n",
              "SLIM(fit_intercept=True,ignore_neg_weights=True...  0.396410  0.404468   \n",
              "KUNN(Ki=500,Ku=100)                                 0.438982  0.439078   \n",
              "\n",
              "                                                    NDCGK_50  CoverageK_10  \\\n",
              "Popularity(K=200)                                   0.261325      0.057667   \n",
              "ItemKNN(K=700,normalize_X=False,normalize_sim=F...  0.403314      0.228047   \n",
              "SLIM(fit_intercept=True,ignore_neg_weights=True...  0.445150      0.363041   \n",
              "KUNN(Ki=500,Ku=100)                                 0.475721      0.366972   \n",
              "\n",
              "                                                    CoverageK_20  RecallK_10  \\\n",
              "Popularity(K=200)                                       0.099607    0.117798   \n",
              "ItemKNN(K=700,normalize_X=False,normalize_sim=F...      0.310616    0.202175   \n",
              "SLIM(fit_intercept=True,ignore_neg_weights=True...      0.477064    0.217518   \n",
              "KUNN(Ki=500,Ku=100)                                     0.492792    0.228623   \n",
              "\n",
              "                                                    RecallK_20  RecallK_50  \\\n",
              "Popularity(K=200)                                     0.179125    0.308064   \n",
              "ItemKNN(K=700,normalize_X=False,normalize_sim=F...    0.301821    0.458827   \n",
              "SLIM(fit_intercept=True,ignore_neg_weights=True...    0.335153    0.523204   \n",
              "KUNN(Ki=500,Ku=100)                                   0.355800    0.559559   \n",
              "\n",
              "                                                    PrecisionK_10  \\\n",
              "Popularity(K=200)                                        0.210817   \n",
              "ItemKNN(K=700,normalize_X=False,normalize_sim=F...       0.325663   \n",
              "SLIM(fit_intercept=True,ignore_neg_weights=True...       0.329799   \n",
              "KUNN(Ki=500,Ku=100)                                      0.370626   \n",
              "\n",
              "                                                    PrecisionK_20  \\\n",
              "Popularity(K=200)                                        0.173807   \n",
              "ItemKNN(K=700,normalize_X=False,normalize_sim=F...       0.259385   \n",
              "SLIM(fit_intercept=True,ignore_neg_weights=True...       0.273860   \n",
              "KUNN(Ki=500,Ku=100)                                      0.301273   \n",
              "\n",
              "                                                    PrecisionK_50  \n",
              "Popularity(K=200)                                        0.132874  \n",
              "ItemKNN(K=700,normalize_X=False,normalize_sim=F...       0.174062  \n",
              "SLIM(fit_intercept=True,ignore_neg_weights=True...       0.190498  \n",
              "KUNN(Ki=500,Ku=100)                                      0.204793  "
            ],
            "text/html": [
              "\n",
              "  <div id=\"df-b1861e42-ee2c-450b-99b6-7d2f4ef78c8f\">\n",
              "    <div class=\"colab-df-container\">\n",
              "      <div>\n",
              "<style scoped>\n",
              "    .dataframe tbody tr th:only-of-type {\n",
              "        vertical-align: middle;\n",
              "    }\n",
              "\n",
              "    .dataframe tbody tr th {\n",
              "        vertical-align: top;\n",
              "    }\n",
              "\n",
              "    .dataframe thead th {\n",
              "        text-align: right;\n",
              "    }\n",
              "</style>\n",
              "<table border=\"1\" class=\"dataframe\">\n",
              "  <thead>\n",
              "    <tr style=\"text-align: right;\">\n",
              "      <th></th>\n",
              "      <th>NDCGK_10</th>\n",
              "      <th>NDCGK_20</th>\n",
              "      <th>NDCGK_50</th>\n",
              "      <th>CoverageK_10</th>\n",
              "      <th>CoverageK_20</th>\n",
              "      <th>RecallK_10</th>\n",
              "      <th>RecallK_20</th>\n",
              "      <th>RecallK_50</th>\n",
              "      <th>PrecisionK_10</th>\n",
              "      <th>PrecisionK_20</th>\n",
              "      <th>PrecisionK_50</th>\n",
              "    </tr>\n",
              "  </thead>\n",
              "  <tbody>\n",
              "    <tr>\n",
              "      <th>Popularity(K=200)</th>\n",
              "      <td>0.235652</td>\n",
              "      <td>0.231848</td>\n",
              "      <td>0.261325</td>\n",
              "      <td>0.057667</td>\n",
              "      <td>0.099607</td>\n",
              "      <td>0.117798</td>\n",
              "      <td>0.179125</td>\n",
              "      <td>0.308064</td>\n",
              "      <td>0.210817</td>\n",
              "      <td>0.173807</td>\n",
              "      <td>0.132874</td>\n",
              "    </tr>\n",
              "    <tr>\n",
              "      <th>ItemKNN(K=700,normalize_X=False,normalize_sim=False,pop_discount=None,similarity=cosine)</th>\n",
              "      <td>0.387507</td>\n",
              "      <td>0.381751</td>\n",
              "      <td>0.403314</td>\n",
              "      <td>0.228047</td>\n",
              "      <td>0.310616</td>\n",
              "      <td>0.202175</td>\n",
              "      <td>0.301821</td>\n",
              "      <td>0.458827</td>\n",
              "      <td>0.325663</td>\n",
              "      <td>0.259385</td>\n",
              "      <td>0.174062</td>\n",
              "    </tr>\n",
              "    <tr>\n",
              "      <th>SLIM(fit_intercept=True,ignore_neg_weights=True,l1_reg=0.0005,l2_reg=5e-05)</th>\n",
              "      <td>0.396410</td>\n",
              "      <td>0.404468</td>\n",
              "      <td>0.445150</td>\n",
              "      <td>0.363041</td>\n",
              "      <td>0.477064</td>\n",
              "      <td>0.217518</td>\n",
              "      <td>0.335153</td>\n",
              "      <td>0.523204</td>\n",
              "      <td>0.329799</td>\n",
              "      <td>0.273860</td>\n",
              "      <td>0.190498</td>\n",
              "    </tr>\n",
              "    <tr>\n",
              "      <th>KUNN(Ki=500,Ku=100)</th>\n",
              "      <td>0.438982</td>\n",
              "      <td>0.439078</td>\n",
              "      <td>0.475721</td>\n",
              "      <td>0.366972</td>\n",
              "      <td>0.492792</td>\n",
              "      <td>0.228623</td>\n",
              "      <td>0.355800</td>\n",
              "      <td>0.559559</td>\n",
              "      <td>0.370626</td>\n",
              "      <td>0.301273</td>\n",
              "      <td>0.204793</td>\n",
              "    </tr>\n",
              "  </tbody>\n",
              "</table>\n",
              "</div>\n",
              "      <button class=\"colab-df-convert\" onclick=\"convertToInteractive('df-b1861e42-ee2c-450b-99b6-7d2f4ef78c8f')\"\n",
              "              title=\"Convert this dataframe to an interactive table.\"\n",
              "              style=\"display:none;\">\n",
              "        \n",
              "  <svg xmlns=\"http://www.w3.org/2000/svg\" height=\"24px\"viewBox=\"0 0 24 24\"\n",
              "       width=\"24px\">\n",
              "    <path d=\"M0 0h24v24H0V0z\" fill=\"none\"/>\n",
              "    <path d=\"M18.56 5.44l.94 2.06.94-2.06 2.06-.94-2.06-.94-.94-2.06-.94 2.06-2.06.94zm-11 1L8.5 8.5l.94-2.06 2.06-.94-2.06-.94L8.5 2.5l-.94 2.06-2.06.94zm10 10l.94 2.06.94-2.06 2.06-.94-2.06-.94-.94-2.06-.94 2.06-2.06.94z\"/><path d=\"M17.41 7.96l-1.37-1.37c-.4-.4-.92-.59-1.43-.59-.52 0-1.04.2-1.43.59L10.3 9.45l-7.72 7.72c-.78.78-.78 2.05 0 2.83L4 21.41c.39.39.9.59 1.41.59.51 0 1.02-.2 1.41-.59l7.78-7.78 2.81-2.81c.8-.78.8-2.07 0-2.86zM5.41 20L4 18.59l7.72-7.72 1.47 1.35L5.41 20z\"/>\n",
              "  </svg>\n",
              "      </button>\n",
              "      \n",
              "  <style>\n",
              "    .colab-df-container {\n",
              "      display:flex;\n",
              "      flex-wrap:wrap;\n",
              "      gap: 12px;\n",
              "    }\n",
              "\n",
              "    .colab-df-convert {\n",
              "      background-color: #E8F0FE;\n",
              "      border: none;\n",
              "      border-radius: 50%;\n",
              "      cursor: pointer;\n",
              "      display: none;\n",
              "      fill: #1967D2;\n",
              "      height: 32px;\n",
              "      padding: 0 0 0 0;\n",
              "      width: 32px;\n",
              "    }\n",
              "\n",
              "    .colab-df-convert:hover {\n",
              "      background-color: #E2EBFA;\n",
              "      box-shadow: 0px 1px 2px rgba(60, 64, 67, 0.3), 0px 1px 3px 1px rgba(60, 64, 67, 0.15);\n",
              "      fill: #174EA6;\n",
              "    }\n",
              "\n",
              "    [theme=dark] .colab-df-convert {\n",
              "      background-color: #3B4455;\n",
              "      fill: #D2E3FC;\n",
              "    }\n",
              "\n",
              "    [theme=dark] .colab-df-convert:hover {\n",
              "      background-color: #434B5C;\n",
              "      box-shadow: 0px 1px 3px 1px rgba(0, 0, 0, 0.15);\n",
              "      filter: drop-shadow(0px 1px 2px rgba(0, 0, 0, 0.3));\n",
              "      fill: #FFFFFF;\n",
              "    }\n",
              "  </style>\n",
              "\n",
              "      <script>\n",
              "        const buttonEl =\n",
              "          document.querySelector('#df-b1861e42-ee2c-450b-99b6-7d2f4ef78c8f button.colab-df-convert');\n",
              "        buttonEl.style.display =\n",
              "          google.colab.kernel.accessAllowed ? 'block' : 'none';\n",
              "\n",
              "        async function convertToInteractive(key) {\n",
              "          const element = document.querySelector('#df-b1861e42-ee2c-450b-99b6-7d2f4ef78c8f');\n",
              "          const dataTable =\n",
              "            await google.colab.kernel.invokeFunction('convertToInteractive',\n",
              "                                                     [key], {});\n",
              "          if (!dataTable) return;\n",
              "\n",
              "          const docLinkHtml = 'Like what you see? Visit the ' +\n",
              "            '<a target=\"_blank\" href=https://colab.research.google.com/notebooks/data_table.ipynb>data table notebook</a>'\n",
              "            + ' to learn more about interactive tables.';\n",
              "          element.innerHTML = '';\n",
              "          dataTable['output_type'] = 'display_data';\n",
              "          await google.colab.output.renderOutput(dataTable, element);\n",
              "          const docLink = document.createElement('div');\n",
              "          docLink.innerHTML = docLinkHtml;\n",
              "          element.appendChild(docLink);\n",
              "        }\n",
              "      </script>\n",
              "    </div>\n",
              "  </div>\n",
              "  "
            ]
          },
          "metadata": {},
          "execution_count": 24
        }
      ]
    }
  ]
}